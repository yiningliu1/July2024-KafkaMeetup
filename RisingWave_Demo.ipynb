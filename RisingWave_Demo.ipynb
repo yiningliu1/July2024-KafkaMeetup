{
  "nbformat": 4,
  "nbformat_minor": 0,
  "metadata": {
    "colab": {
      "provenance": []
    },
    "kernelspec": {
      "name": "python3",
      "display_name": "Python 3"
    },
    "language_info": {
      "name": "python"
    }
  },
  "cells": [
    {
      "cell_type": "markdown",
      "source": [
        "Sources to ingest data from Confluent"
      ],
      "metadata": {
        "id": "U7p2ApEJ1k_t"
      }
    },
    {
      "cell_type": "code",
      "execution_count": null,
      "metadata": {
        "id": "Kb--Tgsj9Vu8"
      },
      "outputs": [],
      "source": [
        "CREATE SOURCE cam1 (frame BYTEA)\n",
        "INCLUDE timestamp AS ts\n",
        "WITH (\n",
        "    connector='kafka',\n",
        "    topic='cam1',\n",
        "    properties.bootstrap.server='pkc-ldvr1.asia-southeast1.gcp.confluent.cloud:9092',\n",
        "    properties.security.protocol = 'SASL_SSL',\n",
        "    properties.sasl.mechanism = 'PLAIN',\n",
        "    properties.sasl.username = 'SP3DSAA5OXMFOKI2',\n",
        "    properties.sasl.password = 'LFGeoUX2nhyrdTCGlxwP8kdNXtRVXM2Xz2dR1VsvowM3iR61Qv5bUL2xdBtFeZnh'\n",
        ") FORMAT PLAIN ENCODE BYTES;\n",
        "\n",
        "CREATE SOURCE cam2 (frame BYTEA)\n",
        "INCLUDE timestamp AS ts\n",
        "WITH (\n",
        "    connector='kafka',\n",
        "    topic='cam2',\n",
        "    properties.bootstrap.server='pkc-ldvr1.asia-southeast1.gcp.confluent.cloud:9092',\n",
        "    properties.security.protocol = 'SASL_SSL',\n",
        "    properties.sasl.mechanism = 'PLAIN',\n",
        "    properties.sasl.username = '',\n",
        "    properties.sasl.password = ''\n",
        ") FORMAT PLAIN ENCODE BYTES;"
      ]
    },
    {
      "cell_type": "markdown",
      "source": [
        "Create UDF"
      ],
      "metadata": {
        "id": "_dx4afjTK6pA"
      }
    },
    {
      "cell_type": "code",
      "source": [
        "CREATE FUNCTION read_plates(BYTEA, TIMESTAMP) RETURNS TABLE(plate VARCHAR, ts TIMESTAMP)\n",
        "AS 'read_plates' USING LINK 'http://34.48.71.202:8815';"
      ],
      "metadata": {
        "id": "S7zFSAVrV4dS"
      },
      "execution_count": null,
      "outputs": []
    },
    {
      "cell_type": "markdown",
      "source": [
        "Create MV to store result of UDF"
      ],
      "metadata": {
        "id": "VEZnD9CkK8b6"
      }
    },
    {
      "cell_type": "code",
      "source": [
        "CREATE MATERIALIZED VIEW cam1_struct AS (\n",
        "  SELECT read_plates(frame, ts AT TIME ZONE 'Asia/Singapore')\n",
        "  FROM cam1\n",
        ");\n",
        "\n",
        "CREATE MATERIALIZED VIEW cam2_struct AS (\n",
        "  SELECT read_plates(frame, ts AT TIME ZONE 'Asia/Singapore')\n",
        "  FROM cam2\n",
        ");"
      ],
      "metadata": {
        "id": "pt3--ste9u47"
      },
      "execution_count": null,
      "outputs": []
    },
    {
      "cell_type": "markdown",
      "source": [
        "Unpack data from structs into columns"
      ],
      "metadata": {
        "id": "RXGt4CY5LEVT"
      }
    },
    {
      "cell_type": "code",
      "source": [
        "CREATE MATERIALIZED VIEW cam1_mv AS (\n",
        "  SELECT (read_plates).plate,\n",
        "  (read_plates).ts\n",
        "  FROM cam1_struct\n",
        ");\n",
        "\n",
        "CREATE MATERIALIZED VIEW cam2_mv AS (\n",
        "  SELECT (read_plates).plate,\n",
        "  (read_plates).ts\n",
        "  FROM cam2_struct\n",
        ");"
      ],
      "metadata": {
        "id": "Ny6leiv5-2fv"
      },
      "execution_count": null,
      "outputs": []
    },
    {
      "cell_type": "markdown",
      "source": [
        "Common plates between the two cameras"
      ],
      "metadata": {
        "id": "jqCqsDd4SupV"
      }
    },
    {
      "cell_type": "code",
      "source": [
        "CREATE MATERIALIZED VIEW common AS (\n",
        "  SELECT DISTINCT ON (cam1_mv.plate)\n",
        "    cam1_mv.plate,\n",
        "    cam1_mv.ts AS cam1_ts,\n",
        "    cam2_mv.ts AS cam2_ts\n",
        "  FROM cam1_mv, cam2_mv\n",
        "  WHERE cam1_mv.plate = cam2_mv.plate\n",
        ");"
      ],
      "metadata": {
        "id": "wsTiILKM_BAG"
      },
      "execution_count": null,
      "outputs": []
    },
    {
      "cell_type": "markdown",
      "source": [
        "Number of distinct cars in the last x minutes"
      ],
      "metadata": {
        "id": "FcUiOx0uGtIO"
      }
    },
    {
      "cell_type": "code",
      "source": [
        "CREATE MATERIALIZED VIEW distinct_cars AS (\n",
        "  SELECT COUNT(DISTINCT plate) AS distinct_vehicle_count,\n",
        "  window_start,\n",
        "  window_end\n",
        "  FROM TUMBLE(cam1_mv, ts, INTERVAL '2 minutes')\n",
        "  GROUP BY window_start, window_end\n",
        ");"
      ],
      "metadata": {
        "id": "dJQOoEo9GsN7"
      },
      "execution_count": null,
      "outputs": []
    },
    {
      "cell_type": "markdown",
      "source": [
        "Average interval between cameras"
      ],
      "metadata": {
        "id": "bHosh7F-HBzJ"
      }
    },
    {
      "cell_type": "code",
      "source": [
        "CREATE MATERIALIZED VIEW avg_time_interval AS (\n",
        "  SELECT AVG(elapsed_time) AS average_interval FROM (\n",
        "    SELECT extract(second from cam2_ts-cam1_ts) AS elapsed_time\n",
        "    FROM common\n",
        "  )\n",
        ");"
      ],
      "metadata": {
        "id": "u1fgcxUQHBc6"
      },
      "execution_count": null,
      "outputs": []
    },
    {
      "cell_type": "markdown",
      "source": [
        "Number of cars each minute"
      ],
      "metadata": {
        "id": "_ozqkis2AnB6"
      }
    },
    {
      "cell_type": "code",
      "source": [
        "CREATE MATERIALIZED VIEW cars_per_min AS (\n",
        "  SELECT COUNT(*) AS vehicle_count,\n",
        "  window_start AS start_time,\n",
        "  window_end AS end_time\n",
        "  FROM TUMBLE(cam1_mv, ts, INTERVAL '1 minutes')\n",
        "  GROUP BY window_start, window_end\n",
        "  ORDER BY window_start\n",
        ");"
      ],
      "metadata": {
        "id": "_SccJNXGAmqw"
      },
      "execution_count": null,
      "outputs": []
    },
    {
      "cell_type": "markdown",
      "source": [
        "\n",
        "\n",
        "Average cars per minute in each 5 minute interval"
      ],
      "metadata": {
        "id": "5Y2Dym2uQ9Xj"
      }
    },
    {
      "cell_type": "code",
      "source": [
        "CREATE MATERIALIZED VIEW avg_cars AS (\n",
        "  SELECT AVG(vehicle_count) AS avg_vehicles_per_minute,\n",
        "  window_start,\n",
        "  window_end\n",
        "  FROM TUMBLE(cars_per_min, start_time, INTERVAL '5 minutes')\n",
        "  GROUP BY window_start, window_end\n",
        ");"
      ],
      "metadata": {
        "id": "cDruXkC2Ac1p"
      },
      "execution_count": null,
      "outputs": []
    },
    {
      "cell_type": "markdown",
      "source": [
        "\n",
        "Top 5 times with most cars"
      ],
      "metadata": {
        "id": "eunBj6keMa78"
      }
    },
    {
      "cell_type": "code",
      "source": [
        "CREATE MATERIALIZED VIEW top_5_times AS (\n",
        "  SELECT *\n",
        "  FROM cars_per_min\n",
        "  ORDER BY vehicle_count DESC\n",
        "  LIMIT 5\n",
        ");"
      ],
      "metadata": {
        "id": "oDs-EKqSMavk"
      },
      "execution_count": null,
      "outputs": []
    }
  ]
}